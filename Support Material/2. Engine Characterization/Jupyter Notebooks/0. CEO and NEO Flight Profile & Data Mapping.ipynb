{
 "cells": [
  {
   "cell_type": "code",
   "execution_count": 13,
   "metadata": {},
   "outputs": [
    {
     "data": {
      "text/plain": [
       "<AxesSubplot:title={'center':'NEO - LEAP-1A26'}, xlabel='FN (lbf)', ylabel='Altitude (ft)'>"
      ]
     },
     "execution_count": 13,
     "metadata": {},
     "output_type": "execute_result"
    }
   ],
   "source": [
    "%reset -f\n",
    "%matplotlib qt\n",
    "\n",
    "##################################################\n",
    "## Engine Data Mapping\n",
    "##\n",
    "## Mapping of aggregated data for the CEO and NEO\n",
    "## Engines.\n",
    "##\n",
    "##################################################\n",
    "## Author: J.M. Roldan\n",
    "## Date: 11/02/2020\n",
    "## License: GPL 3.0\n",
    "## Discord: TazX [Z+1]#0405\n",
    "## Status: Final\n",
    "##################################################\n",
    "\n",
    "import pandas as pd\n",
    "from sklearn import linear_model\n",
    "import seaborn as sns\n",
    "import matplotlib.pyplot as plt\n",
    "\n",
    "################\n",
    "# Figure Set-up\n",
    "################\n",
    "a4_dims = (11.7, 8.27)\n",
    "sns.set(font_scale=0.5)\n",
    "sns.set_palette(\"Spectral\")\n",
    "fig, ax =plt.subplots(2,1, figsize=a4_dims)\n",
    "ax[0].set(title='CEO - CFM56-5B7/P', xlabel='FN (lbf)', ylabel='Altitude (ft)')\n",
    "ax[1].set(title='NEO - LEAP-1A26', xlabel='FN (lbf)', ylabel='Altitude (ft)')\n",
    "\n",
    "\n",
    "######################\n",
    "# CEO Aggregated CSV\n",
    "######################\n",
    "df_214 = pd.read_csv(\"../a320-214.csv\")\n",
    "df_214 = df_214.rename(columns = {'ALT.':'Alt', 'MACH':'Mach'}, inplace=False)\n",
    "\n",
    "######################\n",
    "# NEO Aggregated CSV\n",
    "######################\n",
    "df_251n = pd.read_csv(\"../a320-251n.csv\")\n",
    "df_251n = df_251n.rename(columns = {'ALT.':'Alt', 'MACH':'Mach'}, inplace=False)\n",
    "\n",
    "sns.set_theme(style=\"darkgrid\")\n",
    "sns.scatterplot(data=df_214, x=\"FN\", y=\"Alt\", hue=\"Mach\", s=8, ax=ax[0])\n",
    "sns.scatterplot(data=df_251n, x=\"FN\", y=\"Alt\", hue=\"Mach\", s=8, ax=ax[1])"
   ]
  }
 ],
 "metadata": {
  "kernelspec": {
   "display_name": "Python 3",
   "language": "python",
   "name": "python3"
  },
  "language_info": {
   "codemirror_mode": {
    "name": "ipython",
    "version": 3
   },
   "file_extension": ".py",
   "mimetype": "text/x-python",
   "name": "python",
   "nbconvert_exporter": "python",
   "pygments_lexer": "ipython3",
   "version": "3.8.3"
  }
 },
 "nbformat": 4,
 "nbformat_minor": 2
}
